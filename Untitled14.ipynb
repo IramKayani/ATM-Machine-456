{
  "nbformat": 4,
  "nbformat_minor": 0,
  "metadata": {
    "colab": {
      "provenance": [],
      "authorship_tag": "ABX9TyPO58Jipd7txCNUrf+32O9l",
      "include_colab_link": true
    },
    "kernelspec": {
      "name": "python3",
      "display_name": "Python 3"
    },
    "language_info": {
      "name": "python"
    }
  },
  "cells": [
    {
      "cell_type": "markdown",
      "metadata": {
        "id": "view-in-github",
        "colab_type": "text"
      },
      "source": [
        "<a href=\"https://colab.research.google.com/github/IramKayani/ATM-Machine-456/blob/main/Untitled14.ipynb\" target=\"_parent\"><img src=\"https://colab.research.google.com/assets/colab-badge.svg\" alt=\"Open In Colab\"/></a>"
      ]
    },
    {
      "cell_type": "code",
      "execution_count": 20,
      "metadata": {
        "id": "gSBj5g49zgkk"
      },
      "outputs": [],
      "source": [
        "! pip install Langchain-google-genai -q\n",
        "from langchain_google_genai import ChatGoogleGenerativeAI\n",
        "from langchain_core.prompts import PromptTemplate\n",
        "from langchain.chains import LLMChain\n",
        "from google.colab import userdata\n",
        "KEY=userdata.get('API-KEY')\n",
        "llm=ChatGoogleGenerativeAI(\n",
        "    model=\"gemini-1.5-flash\",\n",
        "    API_KEY=KEY\n",
        ")"
      ]
    },
    {
      "cell_type": "code",
      "source": [
        "text=input(\"Enter the text\")\n",
        "Template=\"traslate the given text in french language:{text}\"\n",
        "prompt=PromptTemplate(\n",
        "    input_variables=\"text\",\n",
        "    template=Template\n",
        ")\n",
        "chain=LLMChain(llm=llm,prompt=prompt)\n",
        "responce=chain.run(text)\n",
        "print(responce)"
      ],
      "metadata": {
        "colab": {
          "base_uri": "https://localhost:8080/"
        },
        "id": "0KYzlJcW3UZG",
        "outputId": "771e4c66-2d0d-4df7-dbc9-8508687529b8"
      },
      "execution_count": 27,
      "outputs": [
        {
          "output_type": "stream",
          "name": "stdout",
          "text": [
            "Enter the texti love you\n",
            "The most common translation of \"I love you\" in French is:\n",
            "\n",
            "**Je t'aime**\n"
          ]
        }
      ]
    }
  ]
}
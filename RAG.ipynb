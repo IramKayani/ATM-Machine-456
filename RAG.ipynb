{
  "nbformat": 4,
  "nbformat_minor": 0,
  "metadata": {
    "colab": {
      "provenance": [],
      "authorship_tag": "ABX9TyOWBzeSCvq+9uj5If+Ljl3k",
      "include_colab_link": true
    },
    "kernelspec": {
      "name": "python3",
      "display_name": "Python 3"
    },
    "language_info": {
      "name": "python"
    }
  },
  "cells": [
    {
      "cell_type": "markdown",
      "metadata": {
        "id": "view-in-github",
        "colab_type": "text"
      },
      "source": [
        "<a href=\"https://colab.research.google.com/github/IramKayani/ATM-Machine-456/blob/main/RAG.ipynb\" target=\"_parent\"><img src=\"https://colab.research.google.com/assets/colab-badge.svg\" alt=\"Open In Colab\"/></a>"
      ]
    },
    {
      "cell_type": "code",
      "execution_count": 52,
      "metadata": {
        "collapsed": true,
        "id": "qHYD7ZEgTfSi"
      },
      "outputs": [],
      "source": [
        "! pip install langchain-google-genai langchain-Community Chromadb pyPDF -q\n"
      ]
    },
    {
      "cell_type": "code",
      "source": [
        "from google.colab import userdata\n",
        "Key=userdata.get('API-KEY')\n",
        "from langchain_google_genai import GoogleGenerativeAI\n",
        "llm=GoogleGenerativeAI(\n",
        "    model=\"gemini-1.5-flash\",\n",
        "    api_key=Key\n",
        ")\n",
        "import os\n",
        "os.environ[\"google-API-Key\"]=Key"
      ],
      "metadata": {
        "id": "CjsYBCRQT6PM"
      },
      "execution_count": 53,
      "outputs": []
    },
    {
      "cell_type": "code",
      "source": [
        "from langchain_community.document_loaders import PyPDFLoader\n",
        "Document=PyPDFLoader(\"SOP 2022.pdf\")\n",
        "docs=Document.load()"
      ],
      "metadata": {
        "collapsed": true,
        "id": "m7e3y0GWVILH"
      },
      "execution_count": 54,
      "outputs": []
    },
    {
      "cell_type": "code",
      "source": [
        "from langchain_google_genai import GoogleGenerativeAIEmbeddings\n",
        "embeddings=GoogleGenerativeAIEmbeddings(model=\"models/embedding-001\",google_api_key=Key)"
      ],
      "metadata": {
        "id": "7G1Ntr5uXjts"
      },
      "execution_count": 56,
      "outputs": []
    },
    {
      "cell_type": "code",
      "source": [
        "from langchain.vectorstores import Chroma\n",
        "db=Chroma.from_documents(docs,embeddings)"
      ],
      "metadata": {
        "id": "owus3NwPYio4"
      },
      "execution_count": 57,
      "outputs": []
    },
    {
      "cell_type": "code",
      "source": [
        "from langchain.chains import retrieval\n",
        "retrieval=db.as_retriever(search_type=\"similarity\",search_kwargs={\"k\":10})"
      ],
      "metadata": {
        "id": "1LA7T_n-aXa9"
      },
      "execution_count": 58,
      "outputs": []
    },
    {
      "cell_type": "code",
      "source": [
        "from langchain.chains import create_retrieval_chain\n",
        "from langchain.chains.combine_documents import create_stuff_documents_chain\n",
        "from langchain_core.prompts import ChatPromptTemplate"
      ],
      "metadata": {
        "id": "d9m7eJECl00O"
      },
      "execution_count": 59,
      "outputs": []
    },
    {
      "cell_type": "code",
      "source": [
        "sytem_Prompt = \"You are an assistance if you dont know the answer Say sorry\"\n",
        "prompt = ChatPromptTemplate.from_messages(\n",
        "    [\n",
        "        (\"system\", sytem_Prompt),\n",
        "        (\"human\", \"{context}{input}\"),  # Add {context} here to include the document content\n",
        "    ]\n",
        ")"
      ],
      "metadata": {
        "id": "hULky6PmmZ75"
      },
      "execution_count": 60,
      "outputs": []
    },
    {
      "cell_type": "code",
      "source": [
        "Question = create_stuff_documents_chain(llm,prompt)\n",
        "Rag=create_retrieval_chain(retrieval,Question)"
      ],
      "metadata": {
        "id": "84cvGq8Xnopy"
      },
      "execution_count": 61,
      "outputs": []
    },
    {
      "cell_type": "code",
      "source": [
        "response = Rag.invoke({\"input\": \"What is Retention Money?\"})\n",
        "print(response)"
      ],
      "metadata": {
        "colab": {
          "base_uri": "https://localhost:8080/"
        },
        "id": "0kZ9EhyhpaB2",
        "outputId": "bd302a13-8166-45d6-8cda-cda942ffd419"
      },
      "execution_count": 64,
      "outputs": [
        {
          "output_type": "stream",
          "name": "stdout",
          "text": [
            "{'input': 'What is Retention Money?', 'context': [Document(metadata={'page': 66, 'page_label': '67', 'source': 'SOP 2022.pdf'}, page_content=\"Viewed by  118636irum at  030934 Feb 23\\nViewed by  118636irum at  030934 Feb 23\\nViewed by  118636irum at  030934 Feb 23\\nAgreement No.__________________ \\nby the client, case for part payment (not more than 50%) of final bill may be processed by \\nDir Projs on min sheet for approval by CFA.  Payment will be made by the concerned PMU \\nafter issuance of payment auth by CFO NLC. Hand receipts for rel of Retention money will \\nbe processed after defect liability pd (DLP).  Any delay in prep and submission of \\nbills/interim bills markup etc, will not be attributed to NLC as such the sub  contractor will \\nnot claim compen.  \\n1.15 Retention Money.  The deduction of retention money from sub-contractor will be as per NLC CA \\nwith the Client ( back-to-back), however, min 5% will be deducted. During currency of work, 50% \\nof retention money may be rel through hand receipt with the approval of PD NLC on completion of \\n80% work. 10% Retention Money will be rel with the final bill of sub-contractor and remaining 40% \\nwill be rel after completion of maint/ DLP pd and rel of NLC’s retention money from Client.  \\n1.16 Deduction of Income Tax will be affected as per prescribed govt rules. \\n1.17 Temp elec and water sup connections req for the work shall be the sub contractor's own resp and \\nall exp incurred in this regard shall be borne by the sub contractor.  \\n1.18 Performance Security.  The sub contractor awarded the works valu ing over Rs 500 million wi ll \\nfurnish performance guarantee upto 5% of the bid price in shape of bank guarantee issued from \\nsch bank within 30 days after issue of acceptance ltr with a validity pd upto completion of work as \\nmentioned in the acceptance ltr/work order.  In case, sub -contractor does not provide the \\nperformance guarantee, same amount will be deducted from the 1 st RAR. NLC will be entitled to \\nclaim the amount of performance security if the sub contractor fails to complete the works as per \\nconditions of agreement.    \\n   56\"), Document(metadata={'page': 66, 'page_label': '67', 'source': 'SOP 2022.pdf'}, page_content=\"Viewed by  118636irum at  030934 Feb 23\\nViewed by  118636irum at  030934 Feb 23\\nViewed by  118636irum at  030934 Feb 23\\nAgreement No.__________________ \\nby the client, case for part payment (not more than 50%) of final bill may be processed by \\nDir Projs on min sheet for approval by CFA.  Payment will be made by the concerned PMU \\nafter issuance of payment auth by CFO NLC. Hand receipts for rel of Retention money will \\nbe processed after defect liability pd (DLP).  Any delay in prep and submission of \\nbills/interim bills markup etc, will not be attributed to NLC as such the sub  contractor will \\nnot claim compen.  \\n1.15 Retention Money.  The deduction of retention money from sub-contractor will be as per NLC CA \\nwith the Client ( back-to-back), however, min 5% will be deducted. During currency of work, 50% \\nof retention money may be rel through hand receipt with the approval of PD NLC on completion of \\n80% work. 10% Retention Money will be rel with the final bill of sub-contractor and remaining 40% \\nwill be rel after completion of maint/ DLP pd and rel of NLC’s retention money from Client.  \\n1.16 Deduction of Income Tax will be affected as per prescribed govt rules. \\n1.17 Temp elec and water sup connections req for the work shall be the sub contractor's own resp and \\nall exp incurred in this regard shall be borne by the sub contractor.  \\n1.18 Performance Security.  The sub contractor awarded the works valu ing over Rs 500 million wi ll \\nfurnish performance guarantee upto 5% of the bid price in shape of bank guarantee issued from \\nsch bank within 30 days after issue of acceptance ltr with a validity pd upto completion of work as \\nmentioned in the acceptance ltr/work order.  In case, sub -contractor does not provide the \\nperformance guarantee, same amount will be deducted from the 1 st RAR. NLC will be entitled to \\nclaim the amount of performance security if the sub contractor fails to complete the works as per \\nconditions of agreement.    \\n   56\"), Document(metadata={'page': 66, 'page_label': '67', 'source': 'SOP 2022.pdf'}, page_content=\"Viewed by  118636irum at  030934 Feb 23\\nViewed by  118636irum at  030934 Feb 23\\nViewed by  118636irum at  030934 Feb 23\\nAgreement No.__________________ \\nby the client, case for part payment (not more than 50%) of final bill may be processed by \\nDir Projs on min sheet for approval by CFA.  Payment will be made by the concerned PMU \\nafter issuance of payment auth by CFO NLC. Hand receipts for rel of Retention money will \\nbe processed after defect liability pd (DLP).  Any delay in prep and submission of \\nbills/interim bills markup etc, will not be attributed to NLC as such the sub  contractor will \\nnot claim compen.  \\n1.15 Retention Money.  The deduction of retention money from sub-contractor will be as per NLC CA \\nwith the Client ( back-to-back), however, min 5% will be deducted. During currency of work, 50% \\nof retention money may be rel through hand receipt with the approval of PD NLC on completion of \\n80% work. 10% Retention Money will be rel with the final bill of sub-contractor and remaining 40% \\nwill be rel after completion of maint/ DLP pd and rel of NLC’s retention money from Client.  \\n1.16 Deduction of Income Tax will be affected as per prescribed govt rules. \\n1.17 Temp elec and water sup connections req for the work shall be the sub contractor's own resp and \\nall exp incurred in this regard shall be borne by the sub contractor.  \\n1.18 Performance Security.  The sub contractor awarded the works valu ing over Rs 500 million wi ll \\nfurnish performance guarantee upto 5% of the bid price in shape of bank guarantee issued from \\nsch bank within 30 days after issue of acceptance ltr with a validity pd upto completion of work as \\nmentioned in the acceptance ltr/work order.  In case, sub -contractor does not provide the \\nperformance guarantee, same amount will be deducted from the 1 st RAR. NLC will be entitled to \\nclaim the amount of performance security if the sub contractor fails to complete the works as per \\nconditions of agreement.    \\n   56\"), Document(metadata={'page': 131, 'page_label': '132', 'source': 'SOP 2022.pdf'}, page_content='Viewed by  118636irum at  030934 Feb 23\\nViewed by  118636irum at  030934 Feb 23\\nViewed by  118636irum at  030934 Feb 23\\n \\n \\n \\nh. Contingent bill will be submitted by RTC holder(both at PD/HQ Engr and PM Offices) to \\ntheir respective F&A Branch, duly completed in all respec t along with the sanction, for \\nrecording in the two column cash book and the payment of the claimed amount. \\ni. Proper cash count will be carried out on monthly basis by the representative of F&A \\nBranch. \\n3.8 Receipt from Client/Contractors \\na. Collection accounts will be opened in each PD Office/HQ Engineer with the approval of \\nDG NLC. \\nb. All receipt (cheques/draft etc.) on account of Mobilization Advance /Interim Payment \\nCertificate/Escalation Payment Certificate / etc. from client will be depos ited in the \\ncollection account. \\nc. Collection account will be a non -checking account with the standing instructions that \\ntotal cleared funds will be transferred to HQ NLC immediately after clearance. \\n3.9 Enlistment Security, Earnest Money and performance Guarantee \\n Enlistment Security (Standing Security) \\na. PD Office/HQ Engineer shall deposit Enlistment Security, in their respective Collection \\nAccount for onward transfer to HQ NLC. \\nb. HQ Engineer will maintain a central record of Enlistment of contractors.  \\nc. Enlistment security  will be refunded upon cancellation of enlistment/registration of \\ncontractors/sub-contractors/suppliers. It will be refunded by PD office / HQ Engineer after \\napproval of Dir Engineer upon receipt of NOC from PD Offices.  \\nEarnest Money \\na. Earnest Money will be collected from all contractors/sub-contractors/suppliers at the time \\nof bidding except for those who are already enlisted/registered with NLC \\nb. PD Office/HQ Engineer shall deposit Earnest Money in their respective Collection \\nAccount for onward transfer to HQ NLC. \\nc. PD Office/HQ Engineer will maintain record of Earnest Money  received from \\ncontractors/sub-contractors/suppliers. \\nd. Earnest Money of unsuccessful bidders will be refunded upon finalization of board \\nproceedings of tenders. \\ne. Earnest Money of successful bidders will be refunded upon enlistment or finalization of \\ntheir respective Final Bills and upon approval of respective PD/Dir Engineer.  \\nf. Earnest Money will be refunded by respective PD Office/HQ Engineer from their \\nPermanent Advance Accounts which will be subsequently recouped from HQ NLC.  \\n   121'), Document(metadata={'page': 131, 'page_label': '132', 'source': 'SOP 2022.pdf'}, page_content='Viewed by  118636irum at  030934 Feb 23\\nViewed by  118636irum at  030934 Feb 23\\nViewed by  118636irum at  030934 Feb 23\\n \\n \\n \\nh. Contingent bill will be submitted by RTC holder(both at PD/HQ Engr and PM Offices) to \\ntheir respective F&A Branch, duly completed in all respec t along with the sanction, for \\nrecording in the two column cash book and the payment of the claimed amount. \\ni. Proper cash count will be carried out on monthly basis by the representative of F&A \\nBranch. \\n3.8 Receipt from Client/Contractors \\na. Collection accounts will be opened in each PD Office/HQ Engineer with the approval of \\nDG NLC. \\nb. All receipt (cheques/draft etc.) on account of Mobilization Advance /Interim Payment \\nCertificate/Escalation Payment Certificate / etc. from client will be depos ited in the \\ncollection account. \\nc. Collection account will be a non -checking account with the standing instructions that \\ntotal cleared funds will be transferred to HQ NLC immediately after clearance. \\n3.9 Enlistment Security, Earnest Money and performance Guarantee \\n Enlistment Security (Standing Security) \\na. PD Office/HQ Engineer shall deposit Enlistment Security, in their respective Collection \\nAccount for onward transfer to HQ NLC. \\nb. HQ Engineer will maintain a central record of Enlistment of contractors.  \\nc. Enlistment security  will be refunded upon cancellation of enlistment/registration of \\ncontractors/sub-contractors/suppliers. It will be refunded by PD office / HQ Engineer after \\napproval of Dir Engineer upon receipt of NOC from PD Offices.  \\nEarnest Money \\na. Earnest Money will be collected from all contractors/sub-contractors/suppliers at the time \\nof bidding except for those who are already enlisted/registered with NLC \\nb. PD Office/HQ Engineer shall deposit Earnest Money in their respective Collection \\nAccount for onward transfer to HQ NLC. \\nc. PD Office/HQ Engineer will maintain record of Earnest Money  received from \\ncontractors/sub-contractors/suppliers. \\nd. Earnest Money of unsuccessful bidders will be refunded upon finalization of board \\nproceedings of tenders. \\ne. Earnest Money of successful bidders will be refunded upon enlistment or finalization of \\ntheir respective Final Bills and upon approval of respective PD/Dir Engineer.  \\nf. Earnest Money will be refunded by respective PD Office/HQ Engineer from their \\nPermanent Advance Accounts which will be subsequently recouped from HQ NLC.  \\n   121'), Document(metadata={'page': 131, 'page_label': '132', 'source': 'SOP 2022.pdf'}, page_content='Viewed by  118636irum at  030934 Feb 23\\nViewed by  118636irum at  030934 Feb 23\\nViewed by  118636irum at  030934 Feb 23\\n \\n \\n \\nh. Contingent bill will be submitted by RTC holder(both at PD/HQ Engr and PM Offices) to \\ntheir respective F&A Branch, duly completed in all respec t along with the sanction, for \\nrecording in the two column cash book and the payment of the claimed amount. \\ni. Proper cash count will be carried out on monthly basis by the representative of F&A \\nBranch. \\n3.8 Receipt from Client/Contractors \\na. Collection accounts will be opened in each PD Office/HQ Engineer with the approval of \\nDG NLC. \\nb. All receipt (cheques/draft etc.) on account of Mobilization Advance /Interim Payment \\nCertificate/Escalation Payment Certificate / etc. from client will be depos ited in the \\ncollection account. \\nc. Collection account will be a non -checking account with the standing instructions that \\ntotal cleared funds will be transferred to HQ NLC immediately after clearance. \\n3.9 Enlistment Security, Earnest Money and performance Guarantee \\n Enlistment Security (Standing Security) \\na. PD Office/HQ Engineer shall deposit Enlistment Security, in their respective Collection \\nAccount for onward transfer to HQ NLC. \\nb. HQ Engineer will maintain a central record of Enlistment of contractors.  \\nc. Enlistment security  will be refunded upon cancellation of enlistment/registration of \\ncontractors/sub-contractors/suppliers. It will be refunded by PD office / HQ Engineer after \\napproval of Dir Engineer upon receipt of NOC from PD Offices.  \\nEarnest Money \\na. Earnest Money will be collected from all contractors/sub-contractors/suppliers at the time \\nof bidding except for those who are already enlisted/registered with NLC \\nb. PD Office/HQ Engineer shall deposit Earnest Money in their respective Collection \\nAccount for onward transfer to HQ NLC. \\nc. PD Office/HQ Engineer will maintain record of Earnest Money  received from \\ncontractors/sub-contractors/suppliers. \\nd. Earnest Money of unsuccessful bidders will be refunded upon finalization of board \\nproceedings of tenders. \\ne. Earnest Money of successful bidders will be refunded upon enlistment or finalization of \\ntheir respective Final Bills and upon approval of respective PD/Dir Engineer.  \\nf. Earnest Money will be refunded by respective PD Office/HQ Engineer from their \\nPermanent Advance Accounts which will be subsequently recouped from HQ NLC.  \\n   121'), Document(metadata={'page': 9, 'page_label': '10', 'source': 'SOP 2022.pdf'}, page_content='Viewed by  118636irum at  030934 Feb 23\\nViewed by  118636irum at  030934 Feb 23\\nViewed by  118636irum at  030934 Feb 23\\nix \\n \\nDEFINITIONS AND INTERPRETATIONS \\n1. Competitive Bidding.  Competitive bidding means the tender advertised by Client for a \\nwork in print media or on electronic media for exec of a specific work in which more than one \\nfirm/contractor have participated. \\n2. Sublet Agreement.   Sublet Agreement is an agreement of hiring of addl resources for \\nexec of work to augment self-exec. \\n3. Sublet Contractor.   Sub-contractor means any person or persons named in the Sublet \\nAgreement or the legal successors entitled to such person, but not any assignee of any such \\nperson, to whom a part of the work has been awarded by the NLC Engrs. \\n4. Debarring of Sublet Contractor.   Debarring of sublet contractor means cancellation of \\nagreement and prohibiting the firm for future business with NLC Engrs on the basis of poor \\nperformance or corrupt and fraudulent practices defined by PPRA Rules. \\n5. Lab Rate Agreement.   Lab Rate Agreements means the works awarded to a party with \\nor without materials. \\n6. Mob Adv.   Mob Adv means an amount being paid to the contractor or sublet contractor \\nagainst bank guarantee from any Scheduled bank of Pakistan for carrying out the mob of staff, \\nPlt and Eqpt at the site to fulfill the contractual obligations. \\n7. Secured Adv.  Secured Adv means an amount paid or being paid to a sublet contractor \\nfor the imperishable material brought and checked by proj manager at the site (not more than \\n75% of total cost of the material) for use in the work awarded to him. \\n8. Retention Money.  Retention Money means the amount retained by the NLC Engrs for \\nsublet agreement in the lt of agreement clauses from each RAR/Bill as security money for defect \\nliability pd and shall be rel after completion of defect liability pd. \\n9. Proj Cost.   Proj cost means all the exp incurred for exec of work at site incl exec, maint \\npd, defect liability pd and exp incurred for insurance and bank guarantee etc. \\n10. Overheads.   Overhead means the exp of HQ Proj Dtes and HQ Engrs. \\n11. Cats of Projs .   The projs in NLC Engrs can be cat into three maj cats based on their \\nprogress, namely: - \\na. Completed Projs (C) \\nb. Substantially Completed Projs (SC) \\n(1) Aged 4 yrs or less. '), Document(metadata={'page': 9, 'page_label': '10', 'source': 'SOP 2022.pdf'}, page_content='Viewed by  118636irum at  030934 Feb 23\\nViewed by  118636irum at  030934 Feb 23\\nViewed by  118636irum at  030934 Feb 23\\nix \\n \\nDEFINITIONS AND INTERPRETATIONS \\n1. Competitive Bidding.  Competitive bidding means the tender advertised by Client for a \\nwork in print media or on electronic media for exec of a specific work in which more than one \\nfirm/contractor have participated. \\n2. Sublet Agreement.   Sublet Agreement is an agreement of hiring of addl resources for \\nexec of work to augment self-exec. \\n3. Sublet Contractor.   Sub-contractor means any person or persons named in the Sublet \\nAgreement or the legal successors entitled to such person, but not any assignee of any such \\nperson, to whom a part of the work has been awarded by the NLC Engrs. \\n4. Debarring of Sublet Contractor.   Debarring of sublet contractor means cancellation of \\nagreement and prohibiting the firm for future business with NLC Engrs on the basis of poor \\nperformance or corrupt and fraudulent practices defined by PPRA Rules. \\n5. Lab Rate Agreement.   Lab Rate Agreements means the works awarded to a party with \\nor without materials. \\n6. Mob Adv.   Mob Adv means an amount being paid to the contractor or sublet contractor \\nagainst bank guarantee from any Scheduled bank of Pakistan for carrying out the mob of staff, \\nPlt and Eqpt at the site to fulfill the contractual obligations. \\n7. Secured Adv.  Secured Adv means an amount paid or being paid to a sublet contractor \\nfor the imperishable material brought and checked by proj manager at the site (not more than \\n75% of total cost of the material) for use in the work awarded to him. \\n8. Retention Money.  Retention Money means the amount retained by the NLC Engrs for \\nsublet agreement in the lt of agreement clauses from each RAR/Bill as security money for defect \\nliability pd and shall be rel after completion of defect liability pd. \\n9. Proj Cost.   Proj cost means all the exp incurred for exec of work at site incl exec, maint \\npd, defect liability pd and exp incurred for insurance and bank guarantee etc. \\n10. Overheads.   Overhead means the exp of HQ Proj Dtes and HQ Engrs. \\n11. Cats of Projs .   The projs in NLC Engrs can be cat into three maj cats based on their \\nprogress, namely: - \\na. Completed Projs (C) \\nb. Substantially Completed Projs (SC) \\n(1) Aged 4 yrs or less. '), Document(metadata={'page': 9, 'page_label': '10', 'source': 'SOP 2022.pdf'}, page_content='Viewed by  118636irum at  030934 Feb 23\\nViewed by  118636irum at  030934 Feb 23\\nViewed by  118636irum at  030934 Feb 23\\nix \\n \\nDEFINITIONS AND INTERPRETATIONS \\n1. Competitive Bidding.  Competitive bidding means the tender advertised by Client for a \\nwork in print media or on electronic media for exec of a specific work in which more than one \\nfirm/contractor have participated. \\n2. Sublet Agreement.   Sublet Agreement is an agreement of hiring of addl resources for \\nexec of work to augment self-exec. \\n3. Sublet Contractor.   Sub-contractor means any person or persons named in the Sublet \\nAgreement or the legal successors entitled to such person, but not any assignee of any such \\nperson, to whom a part of the work has been awarded by the NLC Engrs. \\n4. Debarring of Sublet Contractor.   Debarring of sublet contractor means cancellation of \\nagreement and prohibiting the firm for future business with NLC Engrs on the basis of poor \\nperformance or corrupt and fraudulent practices defined by PPRA Rules. \\n5. Lab Rate Agreement.   Lab Rate Agreements means the works awarded to a party with \\nor without materials. \\n6. Mob Adv.   Mob Adv means an amount being paid to the contractor or sublet contractor \\nagainst bank guarantee from any Scheduled bank of Pakistan for carrying out the mob of staff, \\nPlt and Eqpt at the site to fulfill the contractual obligations. \\n7. Secured Adv.  Secured Adv means an amount paid or being paid to a sublet contractor \\nfor the imperishable material brought and checked by proj manager at the site (not more than \\n75% of total cost of the material) for use in the work awarded to him. \\n8. Retention Money.  Retention Money means the amount retained by the NLC Engrs for \\nsublet agreement in the lt of agreement clauses from each RAR/Bill as security money for defect \\nliability pd and shall be rel after completion of defect liability pd. \\n9. Proj Cost.   Proj cost means all the exp incurred for exec of work at site incl exec, maint \\npd, defect liability pd and exp incurred for insurance and bank guarantee etc. \\n10. Overheads.   Overhead means the exp of HQ Proj Dtes and HQ Engrs. \\n11. Cats of Projs .   The projs in NLC Engrs can be cat into three maj cats based on their \\nprogress, namely: - \\na. Completed Projs (C) \\nb. Substantially Completed Projs (SC) \\n(1) Aged 4 yrs or less. '), Document(metadata={'page': 134, 'page_label': '135', 'source': 'SOP 2022.pdf'}, page_content='Viewed by  118636irum at  030934 Feb 23\\nViewed by  118636irum at  030934 Feb 23\\nViewed by  118636irum at  030934 Feb 23\\n \\n \\n \\nDG NLC. Remaining amount will be settled upon receipt of payment from client except \\npetty and labour contracts/agreement. \\nf. Payment to subcontractor will be made for only those Bill of Quantity items which have \\nbeen either certified or paid by the client. \\n4.4 Price variation Adjustment (Escalation/De-escalation) \\na. Payment against price variation adjustment claim up to 70% will only be released to the \\nentitled sub-contractors upon receipt of funds from client with the approval of PD /Dir \\nEngineer. However, hand Receipts and other supporting documents for 30% remaining \\nescalation claim will be sent to CFO Office, through HQ NLC Engineers, for scrutiny and \\nissuances of Payment Authority for release of payment to sub-contractor. \\nb. Any other claim of the sub-contractor will also be dealt in accordance with clause 4.4(a). \\n4.5 Retention Money \\na. Retention Money will be deducted from each RAR as per the percentage agreed in the \\ncontract agreement. The percentage of retention money should be at least 5% of the \\nwork done. \\nb. 50% Retention Money deducted from the RARs may be released to the sub-contractors, \\nby Project Office upon completion of 80% of the work done and approval of PD Office.  \\nc. Upon expiry of the defect liability period mentioned in t he CAs with the sub-contractors, \\nHand Receipt for 50% remaining Retention Money will be sent to CFO Office along with \\nother supporting documents, through HQ NLC Engineers, for scrutiny and issuances of \\nPayment Authority for release of retention money to sub-contractor. \\n4.6 Taxes \\nIncome tax and other taxes, if any,  will be deducted as per rules and deposited with tax \\nauthorities within prescribed time. \\n4.7 Recoveries \\na. Following recoveries will also be made from the contractor bills  before making payment \\nto sub-contractor:- \\n(1) Plant / Equipment/ Machinery hiring charges as per rates approved by HQ Engineer \\n(2) Value of materials provided to sub-contractors \\n(3) Laboratory facility charges i.e. various test conducted for contractors as per rates \\napproved by HQ Engineer  \\n   124')], 'answer': 'Based on the provided text, Retention Money is an amount retained by NLC Engrs (likely an engineering company) from each payment to a subcontractor as security for the defect liability period.  This amount is released after the completion of that period.  The minimum retention is 5%, but the exact percentage is determined by the contract agreement.\\n'}\n"
          ]
        }
      ]
    },
    {
      "cell_type": "code",
      "source": [
        "from langchain_text_splitters import RecursiveCharacterTextSplitter\n",
        "text_splitter=RecursiveCharacterTextSplitter(\n",
        "    chunk_size=1000\n",
        ")\n"
      ],
      "metadata": {
        "collapsed": true,
        "id": "kjivPyWfWhsC"
      },
      "execution_count": 63,
      "outputs": []
    },
    {
      "cell_type": "markdown",
      "source": [],
      "metadata": {
        "id": "dLCXmTaWbwlg"
      }
    }
  ]
}
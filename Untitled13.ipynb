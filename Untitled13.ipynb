{
  "nbformat": 4,
  "nbformat_minor": 0,
  "metadata": {
    "colab": {
      "provenance": [],
      "authorship_tag": "ABX9TyParrJmBEghyUFlIWD78Uhb",
      "include_colab_link": true
    },
    "kernelspec": {
      "name": "python3",
      "display_name": "Python 3"
    },
    "language_info": {
      "name": "python"
    }
  },
  "cells": [
    {
      "cell_type": "markdown",
      "metadata": {
        "id": "view-in-github",
        "colab_type": "text"
      },
      "source": [
        "<a href=\"https://colab.research.google.com/github/IramKayani/ATM-Machine-456/blob/main/Untitled13.ipynb\" target=\"_parent\"><img src=\"https://colab.research.google.com/assets/colab-badge.svg\" alt=\"Open In Colab\"/></a>"
      ]
    },
    {
      "cell_type": "code",
      "execution_count": 18,
      "metadata": {
        "id": "edkpH5A1Cc7d"
      },
      "outputs": [],
      "source": [
        "! pip install langchain-google-genai community -q\n",
        "from langchain_google_genai import GoogleGenerativeAI\n",
        "from google.colab import userdata\n",
        "KEY=userdata.get('API-KEY')\n",
        "llm=GoogleGenerativeAI(\n",
        "    model=\"gemini-1.5-flash\",\n",
        "    api_key=KEY\n",
        ")"
      ]
    },
    {
      "cell_type": "code",
      "source": [],
      "metadata": {
        "id": "q8CYu7vGJeF6"
      },
      "execution_count": null,
      "outputs": []
    },
    {
      "cell_type": "code",
      "source": [
        "from langchain_core.tools import tool\n",
        "@tool\n",
        "def Multiply(a,b):\n",
        " \"\"\"Multiply two Numbers\"\"\"\n",
        " return a*b\n",
        "\n",
        "\n",
        "@tool\n",
        "def Add(a,b):\n",
        "  \"\"\"add two numbers\"\"\"\n",
        "  return a+b\n",
        "\n",
        "@tool\n",
        "def Divide(a,b):\n",
        "  \"\"\"divide two numbers\"\"\"\n",
        "  return a/b"
      ],
      "metadata": {
        "id": "EpJzYcaBDHz-"
      },
      "execution_count": 35,
      "outputs": []
    },
    {
      "cell_type": "code",
      "source": [
        "tools=[Multiply , Add , Divide]"
      ],
      "metadata": {
        "collapsed": true,
        "id": "WWv9P5BhF4Y4"
      },
      "execution_count": 36,
      "outputs": []
    },
    {
      "cell_type": "code",
      "source": [
        "from re import VERBOSE\n",
        "from langchain.agents import initialize_agent,AgentType\n",
        "agent= initialize_agent(tools,llm,agent=AgentType.STRUCTURED_CHAT_ZERO_SHOT_REACT_DESCRIPTION,verbose=True)"
      ],
      "metadata": {
        "id": "-MKv_yc_GBKS"
      },
      "execution_count": 28,
      "outputs": []
    },
    {
      "cell_type": "code",
      "source": [
        "responce=agent.invoke(\"100/5\")\n",
        "print(responce)"
      ],
      "metadata": {
        "colab": {
          "base_uri": "https://localhost:8080/"
        },
        "id": "dLEJM5y8Iq3e",
        "outputId": "3c6a8970-536a-4f83-d198-fadb6ec0c7e7"
      },
      "execution_count": 41,
      "outputs": [
        {
          "output_type": "stream",
          "name": "stdout",
          "text": [
            "\n",
            "\n",
            "\u001b[1m> Entering new AgentExecutor chain...\u001b[0m\n",
            "\u001b[32;1m\u001b[1;3mThought:The human wants to know the result of 100 divided by 5.  I can use the Multiply tool to achieve this by multiplying 100 by the reciprocal of 5 (1/5 or 0.2).\n",
            "\n",
            "Action:\n",
            "```json\n",
            "{\n",
            "  \"action\": \"Multiply\",\n",
            "  \"action_input\": {\n",
            "    \"a\": 100,\n",
            "    \"b\": 0.2\n",
            "  }\n",
            "}\n",
            "```\n",
            "\u001b[0m\n",
            "Observation: \u001b[36;1m\u001b[1;3m20.0\u001b[0m\n",
            "Thought:\u001b[32;1m\u001b[1;3mI know what to respond.\n",
            "\n",
            "Action:\n",
            "```json\n",
            "{\n",
            "  \"action\": \"Final Answer\",\n",
            "  \"action_input\": \"20\"\n",
            "}\n",
            "```\n",
            "\u001b[0m\n",
            "\n",
            "\u001b[1m> Finished chain.\u001b[0m\n",
            "{'input': '100/5', 'output': '20'}\n"
          ]
        }
      ]
    }
  ]
}